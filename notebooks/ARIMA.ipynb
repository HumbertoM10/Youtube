{
 "cells": [
  {
   "cell_type": "code",
   "execution_count": 13,
   "metadata": {},
   "outputs": [],
   "source": [
    "import pandas as pd\n",
    "import numpy as np\n",
    "import seaborn as sns\n",
    "import matplotlib.pyplot as plt\n",
    "import itertools\n",
    "import isodate\n",
    "from sklearn.model_selection import train_test_split"
   ]
  },
  {
   "cell_type": "code",
   "execution_count": 14,
   "metadata": {},
   "outputs": [],
   "source": [
    "videos = pd.read_csv('./data/USvideos.csv')"
   ]
  },
  {
   "cell_type": "code",
   "execution_count": 15,
   "metadata": {},
   "outputs": [],
   "source": [
    "videos['like_rate'] =  videos ['likes'] / videos['views'] * 100\n",
    "videos['dislike_rate'] =  videos ['dislikes'] / videos['views'] * 100\n",
    "videos['comment_rate'] =  videos ['comment_count'] / videos['views'] * 100"
   ]
  },
  {
   "cell_type": "code",
   "execution_count": 16,
   "metadata": {},
   "outputs": [],
   "source": [
    "videos['trending_date'] = pd.to_datetime(videos['trending_date'], format='%y.%d.%m')\n",
    "videos['publish_time'] = pd.to_datetime(videos['publish_time'], format='%Y-%m-%dT%H:%M:%S.%fZ')"
   ]
  },
  {
   "cell_type": "code",
   "execution_count": 17,
   "metadata": {},
   "outputs": [],
   "source": [
    "videos['time_to_trending'] = videos['trending_date'] - videos['publish_time']\n",
    "videos['time_to_trending'] = [i.total_seconds() for i in videos['time_to_trending']]"
   ]
  },
  {
   "cell_type": "code",
   "execution_count": 20,
   "metadata": {},
   "outputs": [],
   "source": [
    "user_ins = [\n",
    "    'trending_date'\n",
    "]\n",
    "\n",
    "targets = [\n",
    "    'like_rate', 'dislike_rate',\n",
    "    'comment_rate', 'time_to_trending',\n",
    "    'views'\n",
    "]\n",
    "\n",
    "categories = {}\n",
    "for cat in range(1, 33):\n",
    "    categories[cat] = videos[videos['category_id'] == cat]\n",
    "    for target in targets:\n",
    "        X = categories[cat][['publish_time']]\n",
    "        y = categories[cat][target]\n",
    "        X_train, X_test, y_train, y_test = train_test_split(X, y, test_size=0.2, random_state=42)\n",
    "        "
   ]
  },
  {
   "cell_type": "code",
   "execution_count": null,
   "metadata": {},
   "outputs": [],
   "source": []
  }
 ],
 "metadata": {
  "kernelspec": {
   "display_name": "Python 3",
   "language": "python",
   "name": "python3"
  },
  "language_info": {
   "codemirror_mode": {
    "name": "ipython",
    "version": 3
   },
   "file_extension": ".py",
   "mimetype": "text/x-python",
   "name": "python",
   "nbconvert_exporter": "python",
   "pygments_lexer": "ipython3",
   "version": "3.7.2"
  }
 },
 "nbformat": 4,
 "nbformat_minor": 2
}
